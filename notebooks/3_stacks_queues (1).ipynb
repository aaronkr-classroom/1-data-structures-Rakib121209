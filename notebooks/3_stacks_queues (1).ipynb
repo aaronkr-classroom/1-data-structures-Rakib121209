{
  "cells": [
    {
      "cell_type": "markdown",
      "metadata": {
        "id": "-SBAAOpMFw1H"
      },
      "source": [
        "# Stacks with Arrays"
      ]
    },
    {
      "cell_type": "code",
      "execution_count": 1,
      "metadata": {
        "id": "kQHSTqQCGghX"
      },
      "outputs": [],
      "source": [
        "class StackArr:\n",
        "    def __init__(self, size):\n",
        "        self.array_size = size\n",
        "        self.top = -1\n",
        "        self.array = [None] * size\n",
        "\n",
        "    def push(self, value):\n",
        "        # If stack is full, expand the size\n",
        "        if self.top == self.array_size - 1:\n",
        "            self.array_size *= 2\n",
        "            self.array.extend([None] * self.array_size)\n",
        "            print(\"Array expanded to size:\", self.array_size)\n",
        "\n",
        "        self.top += 1\n",
        "        self.array[self.top] = value\n",
        "\n",
        "    def pop(self):\n",
        "        if self.top == -1:\n",
        "            return None  # Stack is empty\n",
        "        value = self.array[self.top]\n",
        "        self.top -= 1\n",
        "        return value\n",
        "\n",
        "    def is_empty(self):\n",
        "        return self.top == -1\n",
        "\n",
        "    def peek(self):\n",
        "        if self.top == -1:\n",
        "            return None\n",
        "        return self.array[self.top]"
      ]
    },
    {
      "cell_type": "markdown",
      "metadata": {
        "id": "XuIgbabCGANl"
      },
      "source": [
        "## Reverse String with a Stack"
      ]
    },
    {
      "cell_type": "code",
      "execution_count": 2,
      "metadata": {
        "id": "CcfXkkcMF_RO"
      },
      "outputs": [],
      "source": [
        "def reverse_string(input_string): # HELLO = 5\n",
        "    # practice\n",
        "    stack = StackArr(len(input_string)) # size parameter\n",
        "    for char in input_string :\n",
        "       stack.push(char)\n",
        "\n",
        "    reversed_str = ''\n",
        "    while not stack.is_empty():\n",
        "       reversed_str += stack.pop()\n",
        "\n",
        "    return reversed_str"
      ]
    },
    {
      "cell_type": "code",
      "execution_count": 28,
      "metadata": {
        "colab": {
          "base_uri": "https://localhost:8080/"
        },
        "id": "_S5q0bdJv0BI",
        "outputId": "7f50f0c1-e1ef-4771-9df4-df14e394e8e9"
      },
      "outputs": [
        {
          "name": "stdout",
          "output_type": "stream",
          "text": [
            "!!barg yenom a saw luaP .sv nosyT\n"
          ]
        }
      ],
      "source": [
        "print(reverse_string(\"Tyson vs. Paul was a money grab!!\"))"
      ]
    },
    {
      "cell_type": "markdown",
      "metadata": {
        "id": "i3v-h_OvGSQ2"
      },
      "source": [
        "## Undo Feature in Text Editor"
      ]
    },
    {
      "cell_type": "code",
      "execution_count": null,
      "metadata": {
        "id": "U5h-rn8kznIy"
      },
      "outputs": [],
      "source": []
    },
    {
      "cell_type": "code",
      "execution_count": 3,
      "metadata": {
        "id": "iSc_6rQEGQm_"
      },
      "outputs": [],
      "source": [
        "def text_editor_simulation(commands):\n",
        "    # practice\n",
        "    text_stack =stackArr(10)\n",
        "    undo_stack =stackArr(10)\n",
        "\n",
        "    for command in commands:\n",
        "       if command.startswith(\"type\"):\n",
        "         char = command.split()[1]\n",
        "         text_stack.push(char)\n",
        "       elif command == \" undo \" or command ==\"CTRL+Z\" :\n",
        "         undo_stack.push(text_stack.pop())\n",
        "       elif command == \"redo \"  or command ==\"CTRL+Y\" :\n",
        "         if not undo_stack.is_empty():\n",
        "           text_stack.push(undo_stack.pop())\n",
        "           # inside IF\n",
        "          # inside ELIF\n",
        "        #inside FOR\n",
        "      # outside FOR\n",
        "      # result string\n",
        "\n",
        "       result = \"\"\n",
        "       while not text_stack.is_empty():\n",
        "         result = text_stack.pop() + result\n",
        "\n",
        "       return result"
      ]
    },
    {
      "cell_type": "code",
      "execution_count": 4,
      "metadata": {
        "id": "aKRlcFJR2oyo"
      },
      "outputs": [],
      "source": [
        "commands =[\n",
        "    \"type A\", \"type B\",\"type Q\",\"type U \",\"undo A\",\"undo B\",\"undo Q\",\"undo U \",\"redo A\",\"redo B\",\"redo Q\",\"redo U\"\n",
        "]"
      ]
    },
    {
      "cell_type": "markdown",
      "metadata": {
        "id": "D5A2W5BsF1VF"
      },
      "source": [
        "# Stacks with Linked Lists"
      ]
    },
    {
      "cell_type": "code",
      "execution_count": 6,
      "metadata": {
        "id": "8FD52-A-FuXr"
      },
      "outputs": [],
      "source": [
        "class LinkedListNode:\n",
        "    def __init__(self, value):\n",
        "        self.value = value\n",
        "        self.next = None\n",
        "\n",
        "class StackLL:\n",
        "    def __init__(self):\n",
        "        self.head = None\n",
        "\n",
        "    def push(self, value):\n",
        "        new_node = LinkedListNode(value)\n",
        "        new_node.next = self.head\n",
        "        self.head = new_node\n",
        "\n",
        "    def pop(self):\n",
        "        if self.head is None:\n",
        "            return None  # Stack is empty\n",
        "        value = self.head.value\n",
        "        self.head = self.head.next\n",
        "        return value\n",
        "\n",
        "    def is_empty(self):\n",
        "        return self.head is None\n",
        "\n",
        "    def peek(self):\n",
        "        if self.head is None:\n",
        "            return None\n",
        "        return self.head.value"
      ]
    },
    {
      "cell_type": "markdown",
      "metadata": {
        "id": "SRIuvVphHbnI"
      },
      "source": [
        "## Check for Balanced Parentheses"
      ]
    },
    {
      "cell_type": "code",
      "execution_count": 7,
      "metadata": {
        "id": "wnq8TneTF7en"
      },
      "outputs": [],
      "source": [
        "def is_balanced(expression):\n",
        "    # practice\n",
        "    stack =StackLL()\n",
        "    matching_brackets ={\n",
        "        ')':'(',\n",
        "        '}':'{',\n",
        "        ']':'['\n",
        "    }\n",
        "    for char in expression:\n",
        "       if char in '({[':\n",
        "         stack.push(char)\n",
        "       elif char in ')}]':\n",
        "         top = stack.pop()\n",
        "         if top is None or top != matching_brackets[char]:\n",
        "           return False\n",
        "\n",
        "    return stack.is_empty()"
      ]
    },
    {
      "cell_type": "code",
      "execution_count": 8,
      "metadata": {
        "colab": {
          "base_uri": "https://localhost:8080/"
        },
        "id": "FcaieIdX5L43",
        "outputId": "5820291d-647b-43c2-83c1-e56dbfeb586f"
      },
      "outputs": [
        {
          "name": "stdout",
          "output_type": "stream",
          "text": [
            "True\n",
            "False\n"
          ]
        }
      ],
      "source": [
        "print(is_balanced(\"(HELLO{nice[to(meet you)]})\")) #True\n",
        "print(is_balanced(\"((HELLO{nice[to(meet you)]})\")) #False"
      ]
    },
    {
      "cell_type": "markdown",
      "metadata": {
        "id": "Qv5QgKWiHkbQ"
      },
      "source": [
        "## Browser Navigation"
      ]
    },
    {
      "cell_type": "code",
      "execution_count": 9,
      "metadata": {
        "id": "WfA_MKK9HfeX"
      },
      "outputs": [],
      "source": [
        "def browser_navigation(urls):\n",
        "    # practice\n",
        "    back_stack =stackLL()\n",
        "    forward_stack =stackLL()\n",
        "    current_page = None\n",
        "\n",
        "    for action in urls:\n",
        "       if action.startswith(\"http\"):\n",
        "         if current_page:\n",
        "           forward_stack.push(current_page)\n",
        "         current_page = action.split()[1] # visit google.com\n",
        "         # Clear the forward stack because we visited a new page\n",
        "         while not forward_stack.is_empty():\n",
        "           forward_stack.pop()\n",
        "       elif action == \"back\" and not back_stack.is_empty():\n",
        "        forward_stack.push(current_page)\n",
        "        current_page = back_stack.pop()\n",
        "       elif action == \"forward\" and not forward_stack.is_empty():\n",
        "        back_stack.push(current_page)\n",
        "        current_page = forward_stack.pop()\n",
        "\n",
        "        print(\"current_page:\", cuurent_page) #auto \\n"
      ]
    },
    {
      "cell_type": "code",
      "execution_count": 10,
      "metadata": {
        "id": "kfCiZbc58zp8"
      },
      "outputs": [],
      "source": [
        "commands =[\n",
        "    \"visit wikipedia.org\",\n",
        "    \"visit google.com\",\n",
        "    \"back\",\n",
        "    \"back\",\n",
        "    \"forward\",\n",
        "    \"visit amazon.com\",\n",
        "    \"forward\",\n",
        "    \"back\"\n",
        "]"
      ]
    },
    {
      "cell_type": "markdown",
      "metadata": {
        "id": "HoXsbKgKMSxv"
      },
      "source": [
        "## Explanation\n",
        "\n",
        "1. **Array-based Stack:**\n",
        "  - Uses a list with dynamic resizing (`self.array.extend()`).\n",
        "  - Offers `push()`, `pop()`, `is_empty()`, and `peek()` methods.\n",
        "2. **Linked List-based Stack:**\n",
        "  - Implements stack using `LinkedListNode` to manage nodes.\n",
        "  - No need to resize, as memory is allocated dynamically.\n",
        "3. **Examples:**\n",
        "  - **Reversing a String:** Uses a stack to reverse characters.\n",
        "  - **Balanced Parentheses:** Checks matching brackets using a stack.\n",
        "  - **Text Editor Undo/Redo:** Manages typing and undo/redo commands.\n",
        "  - **Browser Navigation:** Mimics a web browser back/forward navigation.\n",
        "\n",
        "Feel free to try out and modify these examples!"
      ]
    },
    {
      "cell_type": "markdown",
      "metadata": {
        "id": "qONjyAfIHurA"
      },
      "source": [
        "---\n",
        "# Queues"
      ]
    },
    {
      "cell_type": "code",
      "execution_count": 11,
      "metadata": {
        "id": "V-olBGhzHnKX"
      },
      "outputs": [],
      "source": [
        "class LinkedListNode:\n",
        "    def __init__(self, value):\n",
        "        self.value = value\n",
        "        self.next = None\n",
        "\n",
        "class Queue:\n",
        "    def __init__(self):\n",
        "        self.front = None\n",
        "        self.back = None\n",
        "\n",
        "    def enqueue(self, value):\n",
        "        new_node = LinkedListNode(value)\n",
        "        if self.back is None:  # Queue is empty\n",
        "            self.front = new_node\n",
        "            self.back = new_node\n",
        "        else:\n",
        "            self.back.next = new_node\n",
        "            self.back = new_node\n",
        "\n",
        "    def dequeue(self):\n",
        "        if self.front is None:  # Queue is empty\n",
        "            return None\n",
        "        value = self.front.value\n",
        "        self.front = self.front.next\n",
        "        if self.front is None:  # If queue becomes empty\n",
        "            self.back = None\n",
        "        return value\n",
        "\n",
        "    def is_empty(self):\n",
        "        return self.front is None\n",
        "\n",
        "    def peek(self):\n",
        "        if self.front is None:\n",
        "            return None\n",
        "        return self.front.value"
      ]
    },
    {
      "cell_type": "markdown",
      "metadata": {
        "id": "MzjUFq4iH0fP"
      },
      "source": [
        "## Simulate a Ticket Counter"
      ]
    },
    {
      "cell_type": "code",
      "execution_count": 12,
      "metadata": {
        "id": "sIE5spn3HyuV"
      },
      "outputs": [],
      "source": [
        "def simulate_ticket_counter(customers):\n",
        "    # practice\n",
        "    q = Queue()  # Now Queue is accessible\n",
        "    for customer in customers:\n",
        "        q.enqueue(customer)\n",
        "\n",
        "    print(\"serving all customers:\")\n",
        "    while not q.is_empty():\n",
        "        print(q.dequeue())"
      ]
    },
    {
      "cell_type": "code",
      "execution_count": 13,
      "metadata": {
        "colab": {
          "base_uri": "https://localhost:8080/"
        },
        "id": "yogkfVZf_Dyc",
        "outputId": "139e18b9-983e-4392-d910-3069b58482eb"
      },
      "outputs": [
        {
          "name": "stdout",
          "output_type": "stream",
          "text": [
            "serving all customers:\n",
            "Aaron\n",
            "Rakib\n",
            "alvee\n",
            "shajib\n",
            "messi\n"
          ]
        }
      ],
      "source": [
        "simulate_ticket_counter([\n",
        "    \"Aaron\", \"Rakib\", \"alvee\", \"shajib\", \"messi\"\n",
        "])"
      ]
    },
    {
      "cell_type": "markdown",
      "metadata": {
        "id": "CJD5Gq4KH5jR"
      },
      "source": [
        "## Hot Potato Game (Circle Elimination)"
      ]
    },
    {
      "cell_type": "code",
      "execution_count": 24,
      "metadata": {
        "id": "jGwYMtt8H3Hi"
      },
      "outputs": [],
      "source": [
        "\n",
        "def hot_potato(names, num):\n",
        "    queue = deque(names)\n",
        "    \n",
        "    while len(queue) > 1:\n",
        "        for _ in range(num - 1):\n",
        "            queue.append(queue.popleft())  # Pass the potato (move first to last)\n",
        "        queue.popleft()  # Remove the person holding the potato\n",
        "    \n",
        "    return queue[0]   "
      ]
    },
    {
      "cell_type": "markdown",
      "metadata": {
        "id": "MoyXEhZDIArA"
      },
      "source": [
        "## Printer Job Queue Sim"
      ]
    },
    {
      "cell_type": "code",
      "execution_count": 19,
      "metadata": {
        "id": "RIwxVS7FH95T"
      },
      "outputs": [],
      "source": [
        "\n",
        "class PrintJob:\n",
        "    def __init__(self, job_name, pages):\n",
        "        self.job_name = job_name\n",
        "        self.pages = pages\n",
        "\n",
        "    def __str__(self):\n",
        "        return f\"Job: {self.job_name}, Pages: {self.pages}\"\n",
        "\n",
        "class PrinterQueue:\n",
        "    def __init__(self):\n",
        "        self.queue = deque()\n",
        "\n",
        "    def add_job(self, job_name, pages):\n",
        "        job = PrintJob(job_name, pages)\n",
        "        self.queue.append(job)\n",
        "        print(f\"Added: {job}\")\n",
        "\n",
        "    def process_job(self):\n",
        "        if not self.queue:\n",
        "            print(\"No jobs in the queue!\")\n",
        "            return\n",
        "        \n",
        "        current_job = self.queue.popleft()\n",
        "        print(f\"Processing: {current_job}\")\n",
        "        time.sleep(current_job.pages * 0.5)  # Simulate time to print each page\n",
        "        print(f\"Completed: {current_job}\")\n",
        "\n",
        "    def display_queue(self):\n",
        "        if not self.queue:\n",
        "            print(\"The queue is empty.\")\n",
        "        else:\n",
        "            print(\"Current Queue:\")\n",
        "            for job in self.queue:\n",
        "                print(f\" - {job}\")\n"
      ]
    },
    {
      "cell_type": "markdown",
      "metadata": {
        "id": "zALlREviIGQ5"
      },
      "source": [
        "## Customer Service Help Desk"
      ]
    },
    {
      "cell_type": "code",
      "execution_count": 20,
      "metadata": {
        "id": "TOsozUSQIDSc"
      },
      "outputs": [],
      "source": [
        "class Ticket:\n",
        "    def __init__(self, ticket_id, customer_name, issue, priority=1):\n",
        "        self.ticket_id = ticket_id\n",
        "        self.customer_name = customer_name\n",
        "        self.issue = issue\n",
        "        self.priority = priority\n",
        "\n",
        "    def __lt__(self, other):\n",
        "        return self.priority < other.priority\n",
        "\n",
        "    def __str__(self):\n",
        "        return (f\"Ticket ID: {self.ticket_id}, \"\n",
        "                f\"Customer: {self.customer_name}, \"\n",
        "                f\"Issue: {self.issue}, \"\n",
        "                f\"Priority: {self.priority}\")\n",
        "\n",
        "class HelpDesk:\n",
        "    def __init__(self):\n",
        "        self.queue = PriorityQueue()\n",
        "        self.ticket_counter = 0\n",
        "\n",
        "    def create_ticket(self, customer_name, issue, priority=1):\n",
        "        self.ticket_counter += 1\n",
        "        ticket = Ticket(self.ticket_counter, customer_name, issue, priority)\n",
        "        self.queue.put(ticket)\n",
        "        print(f\"Created Ticket: {ticket}\")\n",
        "\n",
        "    def process_ticket(self):\n",
        "        if self.queue.empty():\n",
        "            print(\"No tickets to process!\")\n",
        "        else:\n",
        "            ticket = self.queue.get()\n",
        "            print(f\"Processing Ticket: {ticket}\")\n",
        "\n",
        "    def view_tickets(self):\n",
        "        if self.queue.empty():\n",
        "            print(\"No tickets in the queue!\")\n",
        "        else:\n",
        "            print(\"Pending Tickets:\")\n",
        "            # Extract tickets temporarily for display\n",
        "            temp_queue = []\n",
        "            while not self.queue.empty():\n",
        "                ticket = self.queue.get()\n",
        "                print(f\" - {ticket}\")\n",
        "                temp_queue.append(ticket)\n",
        "            # Put them back into the queue\n",
        "            for ticket in temp_queue:\n",
        "                self.queue.put(ticket)\n"
      ]
    },
    {
      "cell_type": "code",
      "execution_count": 29,
      "metadata": {},
      "outputs": [
        {
          "name": "stdout",
          "output_type": "stream",
          "text": [
            "Created Ticket: Ticket ID: 1, Customer: Alice, Issue: Can't log in, Priority: 2\n",
            "Created Ticket: Ticket ID: 2, Customer: Bob, Issue: System crash, Priority: 1\n",
            "Created Ticket: Ticket ID: 3, Customer: Charlie, Issue: Password reset, Priority: 3\n",
            "Pending Tickets:\n",
            " - Ticket ID: 2, Customer: Bob, Issue: System crash, Priority: 1\n",
            " - Ticket ID: 1, Customer: Alice, Issue: Can't log in, Priority: 2\n",
            " - Ticket ID: 3, Customer: Charlie, Issue: Password reset, Priority: 3\n",
            "Processing Ticket: Ticket ID: 2, Customer: Bob, Issue: System crash, Priority: 1\n",
            "Processing Ticket: Ticket ID: 1, Customer: Alice, Issue: Can't log in, Priority: 2\n",
            "Pending Tickets:\n",
            " - Ticket ID: 3, Customer: Charlie, Issue: Password reset, Priority: 3\n"
          ]
        }
      ],
      "source": [
        "help_desk = HelpDesk()\n",
        "\n",
        "# Add some tickets\n",
        "help_desk.create_ticket(\"Alice\", \"Can't log in\", priority=2)\n",
        "help_desk.create_ticket(\"Bob\", \"System crash\", priority=1)  # Higher priority\n",
        "help_desk.create_ticket(\"Charlie\", \"Password reset\", priority=3)\n",
        "\n",
        "# View tickets\n",
        "help_desk.view_tickets()\n",
        "\n",
        "# Process tickets\n",
        "help_desk.process_ticket()\n",
        "help_desk.process_ticket()\n",
        "\n",
        "# View remaining tickets\n",
        "help_desk.view_tickets()"
      ]
    },
    {
      "cell_type": "markdown",
      "metadata": {
        "id": "CX7KOfKNIK3x"
      },
      "source": [
        "## Call Center"
      ]
    },
    {
      "cell_type": "code",
      "execution_count": 21,
      "metadata": {
        "id": "bYNgfJ6LIIXP"
      },
      "outputs": [],
      "source": [
        "import random\n",
        "import time\n",
        "\n",
        "from queue import PriorityQueue\n",
        "\n",
        "class Call:\n",
        "    def __init__(self, call_id, customer_name, issue, priority=3):\n",
        "        self.call_id = call_id\n",
        "        self.customer_name = customer_name\n",
        "        self.issue = issue\n",
        "        self.priority = priority\n",
        "\n",
        "    def __lt__(self, other):\n",
        "        return self.priority < other.priority\n",
        "\n",
        "    def __str__(self):\n",
        "        return (f\"Call ID: {self.call_id}, \"\n",
        "                f\"Customer: {self.customer_name}, \"\n",
        "                f\"Issue: {self.issue}, \"\n",
        "                f\"Priority: {self.priority}\")\n",
        "\n",
        "class CallCenter:\n",
        "    def __init__(self):\n",
        "        self.call_queue = PriorityQueue()\n",
        "        self.call_id_counter = 0\n",
        "        self.agents = {}\n",
        "\n",
        "    def add_agent(self, agent_name):\n",
        "        self.agents[agent_name] = None  # None indicates the agent is available\n",
        "        print(f\"Agent {agent_name} added and is now available.\")\n",
        "\n",
        "    def place_call(self, customer_name, issue, priority=3):\n",
        "        self.call_id_counter += 1\n",
        "        call = Call(self.call_id_counter, customer_name, issue, priority)\n",
        "        self.call_queue.put(call)\n",
        "        print(f\"New call placed: {call}\")\n",
        "\n",
        "    def assign_call(self):\n",
        "        # Check for available agents\n",
        "        available_agents = [name for name, call in self.agents.items() if call is None]\n",
        "        if not available_agents:\n",
        "            print(\"No available agents at the moment.\")\n",
        "            return\n",
        "\n",
        "        # Check if there are calls in the queue\n",
        "        if self.call_queue.empty():\n",
        "            print(\"No calls in the queue to assign.\")\n",
        "            return\n",
        "\n",
        "        # Assign call to the first available agent\n",
        "        agent = available_agents[0]\n",
        "        call = self.call_queue.get()\n",
        "        self.agents[agent] = call\n",
        "        print(f\"Assigned {call} to Agent {agent}.\")\n",
        "\n",
        "    def finish_call(self, agent_name):\n",
        "        if agent_name not in self.agents or self.agents[agent_name] is None:\n",
        "            print(f\"Agent {agent_name} is not handling any calls.\")\n",
        "            return\n",
        "\n",
        "        finished_call = self.agents[agent_name]\n",
        "        self.agents[agent_name] = None\n",
        "        print(f\"Agent {agent_name} finished handling {finished_call} and is now available.\")\n",
        "\n",
        "    def view_status(self):\n",
        "        print(\"\\n--- Call Center Status ---\")\n",
        "        print(\"Active Calls:\")\n",
        "        for agent, call in self.agents.items():\n",
        "            if call:\n",
        "                print(f\" - Agent {agent}: {call}\")\n",
        "            else:\n",
        "                print(f\" - Agent {agent}: Available\")\n",
        "\n",
        "        print(\"\\nPending Calls:\")\n",
        "        if self.call_queue.empty():\n",
        "            print(\"No pending calls.\")\n",
        "        else:\n",
        "            temp_queue = []\n",
        "            while not self.call_queue.empty():\n",
        "                call = self.call_queue.get()\n",
        "                print(f\" - {call}\")\n",
        "                temp_queue.append(call)\n",
        "            for call in temp_queue:\n",
        "                self.call_queue.put(call)\n",
        "        print(\"--------------------------\\n\")\n"
      ]
    },
    {
      "cell_type": "code",
      "execution_count": 28,
      "metadata": {},
      "outputs": [
        {
          "name": "stdout",
          "output_type": "stream",
          "text": [
            "Agent Alice added and is now available.\n",
            "Agent Bob added and is now available.\n",
            "New call placed: Call ID: 1, Customer: John, Issue: Billing issue, Priority: 2\n",
            "New call placed: Call ID: 2, Customer: Jane, Issue: Technical support, Priority: 1\n",
            "New call placed: Call ID: 3, Customer: Dave, Issue: General inquiry, Priority: 3\n",
            "\n",
            "--- Call Center Status ---\n",
            "Active Calls:\n",
            " - Agent Alice: Available\n",
            " - Agent Bob: Available\n",
            "\n",
            "Pending Calls:\n",
            " - Call ID: 2, Customer: Jane, Issue: Technical support, Priority: 1\n",
            " - Call ID: 1, Customer: John, Issue: Billing issue, Priority: 2\n",
            " - Call ID: 3, Customer: Dave, Issue: General inquiry, Priority: 3\n",
            "--------------------------\n",
            "\n",
            "Assigned Call ID: 2, Customer: Jane, Issue: Technical support, Priority: 1 to Agent Alice.\n",
            "Assigned Call ID: 1, Customer: John, Issue: Billing issue, Priority: 2 to Agent Bob.\n",
            "\n",
            "--- Call Center Status ---\n",
            "Active Calls:\n",
            " - Agent Alice: Call ID: 2, Customer: Jane, Issue: Technical support, Priority: 1\n",
            " - Agent Bob: Call ID: 1, Customer: John, Issue: Billing issue, Priority: 2\n",
            "\n",
            "Pending Calls:\n",
            " - Call ID: 3, Customer: Dave, Issue: General inquiry, Priority: 3\n",
            "--------------------------\n",
            "\n",
            "Agent Alice finished handling Call ID: 2, Customer: Jane, Issue: Technical support, Priority: 1 and is now available.\n",
            "Assigned Call ID: 3, Customer: Dave, Issue: General inquiry, Priority: 3 to Agent Alice.\n",
            "\n",
            "--- Call Center Status ---\n",
            "Active Calls:\n",
            " - Agent Alice: Call ID: 3, Customer: Dave, Issue: General inquiry, Priority: 3\n",
            " - Agent Bob: Call ID: 1, Customer: John, Issue: Billing issue, Priority: 2\n",
            "\n",
            "Pending Calls:\n",
            "No pending calls.\n",
            "--------------------------\n",
            "\n"
          ]
        }
      ],
      "source": [
        "call_center = CallCenter()\n",
        "\n",
        "# Add agents\n",
        "call_center.add_agent(\"Alice\")\n",
        "call_center.add_agent(\"Bob\")\n",
        "\n",
        "# Place calls\n",
        "call_center.place_call(\"John\", \"Billing issue\", priority=2)\n",
        "call_center.place_call(\"Jane\", \"Technical support\", priority=1)\n",
        "call_center.place_call(\"Dave\", \"General inquiry\", priority=3)\n",
        "\n",
        "# View current status\n",
        "call_center.view_status()\n",
        "\n",
        "# Assign calls to agents\n",
        "call_center.assign_call()\n",
        "call_center.assign_call()\n",
        "\n",
        "# View current status\n",
        "call_center.view_status()\n",
        "\n",
        "# Finish a call and reassign\n",
        "call_center.finish_call(\"Alice\")\n",
        "call_center.assign_call()\n",
        "\n",
        "# Final status\n",
        "call_center.view_status()\n"
      ]
    },
    {
      "cell_type": "markdown",
      "metadata": {
        "id": "hFuEqrpqMqSe"
      },
      "source": [
        "## Explanation\n",
        "\n",
        "1. **Queue Implementation:**\n",
        "  - Uses a linked list with front pointing to the first element and back pointing to the last.\n",
        "  - `enqueue()`: Adds a new element to the back of the queue.\n",
        "  - `dequeue()`: Removes and returns the element from the front.\n",
        "  - `is_empty()`: Checks if the queue is empty.\n",
        "  - `peek()`: Returns the front element without removing it.\n",
        "2. **Examples:**\n",
        "  - **Ticket Counter:** Serves customers in the order they arrive.\n",
        "  - **Hot Potato Game:** Eliminates players in a circular manner until one remains.\n",
        "  - **Printer Job Queue:** Simulates jobs being processed in the order they are added.\n",
        "  - **Help Desk Queue:** Handles customer service requests.\n",
        "  - **Call Center:** Simulates a call center handling incoming calls.\n",
        "\n",
        "These scenarios illustrate real-world applications of queues, showing how they manage tasks in a \"first-in, first-out\" (FIFO) manner."
      ]
    },
    {
      "cell_type": "code",
      "execution_count": null,
      "metadata": {
        "id": "CYlqlWKgIMtj"
      },
      "outputs": [],
      "source": []
    }
  ],
  "metadata": {
    "colab": {
      "provenance": []
    },
    "kernelspec": {
      "display_name": "Python 3",
      "name": "python3"
    },
    "language_info": {
      "codemirror_mode": {
        "name": "ipython",
        "version": 3
      },
      "file_extension": ".py",
      "mimetype": "text/x-python",
      "name": "python",
      "nbconvert_exporter": "python",
      "pygments_lexer": "ipython3",
      "version": "3.12.1"
    }
  },
  "nbformat": 4,
  "nbformat_minor": 0
}
